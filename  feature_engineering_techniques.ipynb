{
 "cells": [
  {
   "cell_type": "markdown",
   "id": "light-underground",
   "metadata": {},
   "source": [
    "### Feature engineering techniques\n",
    "### List of Techniques\n",
    "<ol>\n",
    "    <li> Imputation </li>\n",
    "    <li> Handling Outliers </li>\n",
    "    <li> Binning </li>\n",
    "    <li> Log Transform </li>\n",
    "    <li> One-Hot Encoding </li>\n",
    "    <li> Grouping Operations </li>\n",
    "    <li> Feature Split </li>\n",
    "    <li> Scaling </li>\n",
    "    <li> Extracting Date </li>\n",
    "</ol>\n",
    "\n",
    "<a>https://towardsdatascience.com/feature-engineering-for-machine-learning-3a5e293a5114</a>"
   ]
  },
  {
   "cell_type": "code",
   "execution_count": 1,
   "id": "vocational-contribution",
   "metadata": {},
   "outputs": [],
   "source": [
    "import pandas as pd\n",
    "import numpy as np"
   ]
  },
  {
   "cell_type": "code",
   "execution_count": 2,
   "id": "confidential-exhibit",
   "metadata": {},
   "outputs": [],
   "source": [
    "df = pd.read_csv('titanic.csv')"
   ]
  },
  {
   "cell_type": "code",
   "execution_count": 3,
   "id": "suburban-groove",
   "metadata": {},
   "outputs": [
    {
     "data": {
      "text/html": [
       "<div>\n",
       "<style scoped>\n",
       "    .dataframe tbody tr th:only-of-type {\n",
       "        vertical-align: middle;\n",
       "    }\n",
       "\n",
       "    .dataframe tbody tr th {\n",
       "        vertical-align: top;\n",
       "    }\n",
       "\n",
       "    .dataframe thead th {\n",
       "        text-align: right;\n",
       "    }\n",
       "</style>\n",
       "<table border=\"1\" class=\"dataframe\">\n",
       "  <thead>\n",
       "    <tr style=\"text-align: right;\">\n",
       "      <th></th>\n",
       "      <th>PassengerId</th>\n",
       "      <th>Survived</th>\n",
       "      <th>Pclass</th>\n",
       "      <th>Name</th>\n",
       "      <th>Sex</th>\n",
       "      <th>Age</th>\n",
       "      <th>SibSp</th>\n",
       "      <th>Parch</th>\n",
       "      <th>Ticket</th>\n",
       "      <th>Fare</th>\n",
       "      <th>Cabin</th>\n",
       "      <th>Embarked</th>\n",
       "    </tr>\n",
       "  </thead>\n",
       "  <tbody>\n",
       "    <tr>\n",
       "      <th>0</th>\n",
       "      <td>1</td>\n",
       "      <td>0</td>\n",
       "      <td>3</td>\n",
       "      <td>Braund, Mr. Owen Harris</td>\n",
       "      <td>male</td>\n",
       "      <td>22.0</td>\n",
       "      <td>1</td>\n",
       "      <td>0</td>\n",
       "      <td>A/5 21171</td>\n",
       "      <td>7.2500</td>\n",
       "      <td>NaN</td>\n",
       "      <td>S</td>\n",
       "    </tr>\n",
       "    <tr>\n",
       "      <th>1</th>\n",
       "      <td>2</td>\n",
       "      <td>1</td>\n",
       "      <td>1</td>\n",
       "      <td>Cumings, Mrs. John Bradley (Florence Briggs Th...</td>\n",
       "      <td>female</td>\n",
       "      <td>38.0</td>\n",
       "      <td>1</td>\n",
       "      <td>0</td>\n",
       "      <td>PC 17599</td>\n",
       "      <td>71.2833</td>\n",
       "      <td>C85</td>\n",
       "      <td>C</td>\n",
       "    </tr>\n",
       "    <tr>\n",
       "      <th>2</th>\n",
       "      <td>3</td>\n",
       "      <td>1</td>\n",
       "      <td>3</td>\n",
       "      <td>Heikkinen, Miss. Laina</td>\n",
       "      <td>female</td>\n",
       "      <td>26.0</td>\n",
       "      <td>0</td>\n",
       "      <td>0</td>\n",
       "      <td>STON/O2. 3101282</td>\n",
       "      <td>7.9250</td>\n",
       "      <td>NaN</td>\n",
       "      <td>S</td>\n",
       "    </tr>\n",
       "    <tr>\n",
       "      <th>3</th>\n",
       "      <td>4</td>\n",
       "      <td>1</td>\n",
       "      <td>1</td>\n",
       "      <td>Futrelle, Mrs. Jacques Heath (Lily May Peel)</td>\n",
       "      <td>female</td>\n",
       "      <td>35.0</td>\n",
       "      <td>1</td>\n",
       "      <td>0</td>\n",
       "      <td>113803</td>\n",
       "      <td>53.1000</td>\n",
       "      <td>C123</td>\n",
       "      <td>S</td>\n",
       "    </tr>\n",
       "    <tr>\n",
       "      <th>4</th>\n",
       "      <td>5</td>\n",
       "      <td>0</td>\n",
       "      <td>3</td>\n",
       "      <td>Allen, Mr. William Henry</td>\n",
       "      <td>male</td>\n",
       "      <td>35.0</td>\n",
       "      <td>0</td>\n",
       "      <td>0</td>\n",
       "      <td>373450</td>\n",
       "      <td>8.0500</td>\n",
       "      <td>NaN</td>\n",
       "      <td>S</td>\n",
       "    </tr>\n",
       "  </tbody>\n",
       "</table>\n",
       "</div>"
      ],
      "text/plain": [
       "   PassengerId  Survived  Pclass  \\\n",
       "0            1         0       3   \n",
       "1            2         1       1   \n",
       "2            3         1       3   \n",
       "3            4         1       1   \n",
       "4            5         0       3   \n",
       "\n",
       "                                                Name     Sex   Age  SibSp  \\\n",
       "0                            Braund, Mr. Owen Harris    male  22.0      1   \n",
       "1  Cumings, Mrs. John Bradley (Florence Briggs Th...  female  38.0      1   \n",
       "2                             Heikkinen, Miss. Laina  female  26.0      0   \n",
       "3       Futrelle, Mrs. Jacques Heath (Lily May Peel)  female  35.0      1   \n",
       "4                           Allen, Mr. William Henry    male  35.0      0   \n",
       "\n",
       "   Parch            Ticket     Fare Cabin Embarked  \n",
       "0      0         A/5 21171   7.2500   NaN        S  \n",
       "1      0          PC 17599  71.2833   C85        C  \n",
       "2      0  STON/O2. 3101282   7.9250   NaN        S  \n",
       "3      0            113803  53.1000  C123        S  \n",
       "4      0            373450   8.0500   NaN        S  "
      ]
     },
     "execution_count": 3,
     "metadata": {},
     "output_type": "execute_result"
    }
   ],
   "source": [
    "df.head()"
   ]
  },
  {
   "cell_type": "code",
   "execution_count": 4,
   "id": "sticky-representation",
   "metadata": {},
   "outputs": [
    {
     "name": "stdout",
     "output_type": "stream",
     "text": [
      "Index(['PassengerId', 'Survived', 'Pclass', 'Name', 'Sex', 'Age', 'SibSp',\n",
      "       'Parch', 'Ticket', 'Fare', 'Cabin', 'Embarked'],\n",
      "      dtype='object')\n",
      "PassengerId\n",
      "PassengerId    0.000000\n",
      "Survived       0.000000\n",
      "Pclass         0.000000\n",
      "Name           0.000000\n",
      "Sex            0.000000\n",
      "Age            0.198653\n",
      "SibSp          0.000000\n",
      "Parch          0.000000\n",
      "Ticket         0.000000\n",
      "Fare           0.000000\n",
      "Cabin          0.771044\n",
      "Embarked       0.002245\n",
      "dtype: float64\n",
      "PassengerId     True\n",
      "Survived        True\n",
      "Pclass          True\n",
      "Name            True\n",
      "Sex             True\n",
      "Age            False\n",
      "SibSp           True\n",
      "Parch           True\n",
      "Ticket          True\n",
      "Fare            True\n",
      "Cabin          False\n",
      "Embarked       False\n",
      "dtype: bool\n",
      "0      0.083333\n",
      "1      0.000000\n",
      "2      0.083333\n",
      "3      0.000000\n",
      "4      0.083333\n",
      "         ...   \n",
      "886    0.083333\n",
      "887    0.000000\n",
      "888    0.166667\n",
      "889    0.000000\n",
      "890    0.083333\n",
      "Length: 891, dtype: float64\n",
      "Index(['PassengerId', 'Survived', 'Pclass', 'Name', 'Sex', 'SibSp', 'Parch',\n",
      "       'Ticket', 'Fare'],\n",
      "      dtype='object')\n"
     ]
    }
   ],
   "source": [
    "print(df.columns)\n",
    "print(df.columns[0])\n",
    "\n",
    "threshold = 0.0\n",
    "# df.columns\n",
    "print(df.isnull().mean())\n",
    "print(df.isnull().mean() == threshold)\n",
    "\n",
    "print(df.isnull().mean(axis=1))\n",
    "\n",
    "print(df.columns[df.isnull().mean() == threshold])\n"
   ]
  },
  {
   "cell_type": "markdown",
   "id": "bizarre-suite",
   "metadata": {},
   "source": [
    "# 1. Imputation\n",
    "\n",
    "<p>Missing values are one of the most common problems you can encounter when you try to prepare your data for machine learning. The reason for the missing values might be human errors, interruptions in the data flow, privacy concerns, and so on. Whatever is the reason, missing values affect the performance of the machine learning models.\n",
    "Some machine learning platforms automatically drop the rows which include missing values in the model training phase and it decreases the model performance because of the reduced training size. On the other hand, most of the algorithms do not accept datasets with missing values and gives an error.</p>\n",
    "\n",
    "<p>The most simple solution to the missing values is to drop the rows or the entire column. There is not an optimum threshold for dropping but you can use 70% as an example value and try to drop the rows and columns which have missing values with higher than this threshold.</p>"
   ]
  },
  {
   "cell_type": "code",
   "execution_count": 5,
   "id": "static-mediterranean",
   "metadata": {},
   "outputs": [
    {
     "name": "stdout",
     "output_type": "stream",
     "text": [
      "(891, 11)\n",
      "(891, 11)\n"
     ]
    }
   ],
   "source": [
    "### Dropping colums or rows.. \n",
    "\n",
    "threshold = 0.7\n",
    "#Dropping columns with missing value rate higher than threshold\n",
    "df = df[df.columns[df.isnull().mean() < threshold]]\n",
    "print(df.shape)\n",
    "\n",
    "#Dropping rows with missing value rate higher than threshold\n",
    "df = df.loc[df.isnull().mean(axis=1) < threshold]\n",
    "\n",
    "print(df.shape)"
   ]
  },
  {
   "cell_type": "code",
   "execution_count": 6,
   "id": "fundamental-feeding",
   "metadata": {},
   "outputs": [
    {
     "name": "stdout",
     "output_type": "stream",
     "text": [
      "PassengerId    446.000000\n",
      "Survived         0.383838\n",
      "Pclass           2.308642\n",
      "Age             29.699118\n",
      "SibSp            0.523008\n",
      "Parch            0.381594\n",
      "Fare            32.204208\n",
      "dtype: float64\n"
     ]
    }
   ],
   "source": [
    "#### IMPULATION\n",
    "print(df.mean())"
   ]
  },
  {
   "cell_type": "markdown",
   "id": "interracial-tennis",
   "metadata": {},
   "source": [
    "## Numerical Imputation\n",
    "best imputation way is to use the medians of the columns. As the averages of the columns are sensitive to the outlier values, while medians are more solid in this respect."
   ]
  },
  {
   "cell_type": "code",
   "execution_count": 7,
   "id": "level-ensemble",
   "metadata": {},
   "outputs": [
    {
     "data": {
      "text/html": [
       "<div>\n",
       "<style scoped>\n",
       "    .dataframe tbody tr th:only-of-type {\n",
       "        vertical-align: middle;\n",
       "    }\n",
       "\n",
       "    .dataframe tbody tr th {\n",
       "        vertical-align: top;\n",
       "    }\n",
       "\n",
       "    .dataframe thead th {\n",
       "        text-align: right;\n",
       "    }\n",
       "</style>\n",
       "<table border=\"1\" class=\"dataframe\">\n",
       "  <thead>\n",
       "    <tr style=\"text-align: right;\">\n",
       "      <th></th>\n",
       "      <th>PassengerId</th>\n",
       "      <th>Survived</th>\n",
       "      <th>Pclass</th>\n",
       "      <th>Name</th>\n",
       "      <th>Sex</th>\n",
       "      <th>Age</th>\n",
       "      <th>SibSp</th>\n",
       "      <th>Parch</th>\n",
       "      <th>Ticket</th>\n",
       "      <th>Fare</th>\n",
       "      <th>Embarked</th>\n",
       "    </tr>\n",
       "  </thead>\n",
       "  <tbody>\n",
       "    <tr>\n",
       "      <th>0</th>\n",
       "      <td>1</td>\n",
       "      <td>0</td>\n",
       "      <td>3</td>\n",
       "      <td>Braund, Mr. Owen Harris</td>\n",
       "      <td>male</td>\n",
       "      <td>22.0</td>\n",
       "      <td>1</td>\n",
       "      <td>0</td>\n",
       "      <td>A/5 21171</td>\n",
       "      <td>7.2500</td>\n",
       "      <td>S</td>\n",
       "    </tr>\n",
       "    <tr>\n",
       "      <th>1</th>\n",
       "      <td>2</td>\n",
       "      <td>1</td>\n",
       "      <td>1</td>\n",
       "      <td>Cumings, Mrs. John Bradley (Florence Briggs Th...</td>\n",
       "      <td>female</td>\n",
       "      <td>38.0</td>\n",
       "      <td>1</td>\n",
       "      <td>0</td>\n",
       "      <td>PC 17599</td>\n",
       "      <td>71.2833</td>\n",
       "      <td>C</td>\n",
       "    </tr>\n",
       "    <tr>\n",
       "      <th>2</th>\n",
       "      <td>3</td>\n",
       "      <td>1</td>\n",
       "      <td>3</td>\n",
       "      <td>Heikkinen, Miss. Laina</td>\n",
       "      <td>female</td>\n",
       "      <td>26.0</td>\n",
       "      <td>0</td>\n",
       "      <td>0</td>\n",
       "      <td>STON/O2. 3101282</td>\n",
       "      <td>7.9250</td>\n",
       "      <td>S</td>\n",
       "    </tr>\n",
       "    <tr>\n",
       "      <th>3</th>\n",
       "      <td>4</td>\n",
       "      <td>1</td>\n",
       "      <td>1</td>\n",
       "      <td>Futrelle, Mrs. Jacques Heath (Lily May Peel)</td>\n",
       "      <td>female</td>\n",
       "      <td>35.0</td>\n",
       "      <td>1</td>\n",
       "      <td>0</td>\n",
       "      <td>113803</td>\n",
       "      <td>53.1000</td>\n",
       "      <td>S</td>\n",
       "    </tr>\n",
       "    <tr>\n",
       "      <th>4</th>\n",
       "      <td>5</td>\n",
       "      <td>0</td>\n",
       "      <td>3</td>\n",
       "      <td>Allen, Mr. William Henry</td>\n",
       "      <td>male</td>\n",
       "      <td>35.0</td>\n",
       "      <td>0</td>\n",
       "      <td>0</td>\n",
       "      <td>373450</td>\n",
       "      <td>8.0500</td>\n",
       "      <td>S</td>\n",
       "    </tr>\n",
       "    <tr>\n",
       "      <th>...</th>\n",
       "      <td>...</td>\n",
       "      <td>...</td>\n",
       "      <td>...</td>\n",
       "      <td>...</td>\n",
       "      <td>...</td>\n",
       "      <td>...</td>\n",
       "      <td>...</td>\n",
       "      <td>...</td>\n",
       "      <td>...</td>\n",
       "      <td>...</td>\n",
       "      <td>...</td>\n",
       "    </tr>\n",
       "    <tr>\n",
       "      <th>886</th>\n",
       "      <td>887</td>\n",
       "      <td>0</td>\n",
       "      <td>2</td>\n",
       "      <td>Montvila, Rev. Juozas</td>\n",
       "      <td>male</td>\n",
       "      <td>27.0</td>\n",
       "      <td>0</td>\n",
       "      <td>0</td>\n",
       "      <td>211536</td>\n",
       "      <td>13.0000</td>\n",
       "      <td>S</td>\n",
       "    </tr>\n",
       "    <tr>\n",
       "      <th>887</th>\n",
       "      <td>888</td>\n",
       "      <td>1</td>\n",
       "      <td>1</td>\n",
       "      <td>Graham, Miss. Margaret Edith</td>\n",
       "      <td>female</td>\n",
       "      <td>19.0</td>\n",
       "      <td>0</td>\n",
       "      <td>0</td>\n",
       "      <td>112053</td>\n",
       "      <td>30.0000</td>\n",
       "      <td>S</td>\n",
       "    </tr>\n",
       "    <tr>\n",
       "      <th>888</th>\n",
       "      <td>889</td>\n",
       "      <td>0</td>\n",
       "      <td>3</td>\n",
       "      <td>Johnston, Miss. Catherine Helen \"Carrie\"</td>\n",
       "      <td>female</td>\n",
       "      <td>28.0</td>\n",
       "      <td>1</td>\n",
       "      <td>2</td>\n",
       "      <td>W./C. 6607</td>\n",
       "      <td>23.4500</td>\n",
       "      <td>S</td>\n",
       "    </tr>\n",
       "    <tr>\n",
       "      <th>889</th>\n",
       "      <td>890</td>\n",
       "      <td>1</td>\n",
       "      <td>1</td>\n",
       "      <td>Behr, Mr. Karl Howell</td>\n",
       "      <td>male</td>\n",
       "      <td>26.0</td>\n",
       "      <td>0</td>\n",
       "      <td>0</td>\n",
       "      <td>111369</td>\n",
       "      <td>30.0000</td>\n",
       "      <td>C</td>\n",
       "    </tr>\n",
       "    <tr>\n",
       "      <th>890</th>\n",
       "      <td>891</td>\n",
       "      <td>0</td>\n",
       "      <td>3</td>\n",
       "      <td>Dooley, Mr. Patrick</td>\n",
       "      <td>male</td>\n",
       "      <td>32.0</td>\n",
       "      <td>0</td>\n",
       "      <td>0</td>\n",
       "      <td>370376</td>\n",
       "      <td>7.7500</td>\n",
       "      <td>Q</td>\n",
       "    </tr>\n",
       "  </tbody>\n",
       "</table>\n",
       "<p>891 rows × 11 columns</p>\n",
       "</div>"
      ],
      "text/plain": [
       "     PassengerId  Survived  Pclass  \\\n",
       "0              1         0       3   \n",
       "1              2         1       1   \n",
       "2              3         1       3   \n",
       "3              4         1       1   \n",
       "4              5         0       3   \n",
       "..           ...       ...     ...   \n",
       "886          887         0       2   \n",
       "887          888         1       1   \n",
       "888          889         0       3   \n",
       "889          890         1       1   \n",
       "890          891         0       3   \n",
       "\n",
       "                                                  Name     Sex   Age  SibSp  \\\n",
       "0                              Braund, Mr. Owen Harris    male  22.0      1   \n",
       "1    Cumings, Mrs. John Bradley (Florence Briggs Th...  female  38.0      1   \n",
       "2                               Heikkinen, Miss. Laina  female  26.0      0   \n",
       "3         Futrelle, Mrs. Jacques Heath (Lily May Peel)  female  35.0      1   \n",
       "4                             Allen, Mr. William Henry    male  35.0      0   \n",
       "..                                                 ...     ...   ...    ...   \n",
       "886                              Montvila, Rev. Juozas    male  27.0      0   \n",
       "887                       Graham, Miss. Margaret Edith  female  19.0      0   \n",
       "888           Johnston, Miss. Catherine Helen \"Carrie\"  female  28.0      1   \n",
       "889                              Behr, Mr. Karl Howell    male  26.0      0   \n",
       "890                                Dooley, Mr. Patrick    male  32.0      0   \n",
       "\n",
       "     Parch            Ticket     Fare Embarked  \n",
       "0        0         A/5 21171   7.2500        S  \n",
       "1        0          PC 17599  71.2833        C  \n",
       "2        0  STON/O2. 3101282   7.9250        S  \n",
       "3        0            113803  53.1000        S  \n",
       "4        0            373450   8.0500        S  \n",
       "..     ...               ...      ...      ...  \n",
       "886      0            211536  13.0000        S  \n",
       "887      0            112053  30.0000        S  \n",
       "888      2        W./C. 6607  23.4500        S  \n",
       "889      0            111369  30.0000        C  \n",
       "890      0            370376   7.7500        Q  \n",
       "\n",
       "[891 rows x 11 columns]"
      ]
     },
     "execution_count": 7,
     "metadata": {},
     "output_type": "execute_result"
    }
   ],
   "source": [
    "# Numerical Imputation\n",
    "\n",
    "# Filling all missing values with 0\n",
    "df.fillna(0)\n",
    "\n",
    "# Filling all missing values with median of columns\n",
    "df.fillna(df.median())"
   ]
  },
  {
   "cell_type": "markdown",
   "id": "assured-commercial",
   "metadata": {},
   "source": [
    "## Categorical Imputation\n",
    "Replacing the missing values with the maximum occurred value in a column is a good option for handling categorical columns. But if you think the values in the column are distributed uniformly and there is not a dominant value, imputing a category like “Other” might be more sensible, because in such a case, your imputation is likely to converge a random selection."
   ]
  },
  {
   "cell_type": "code",
   "execution_count": 8,
   "id": "fourth-islam",
   "metadata": {},
   "outputs": [
    {
     "name": "stdout",
     "output_type": "stream",
     "text": [
      "0        1\n",
      "1        2\n",
      "2        3\n",
      "3        4\n",
      "4        5\n",
      "      ... \n",
      "886    887\n",
      "887    888\n",
      "888    889\n",
      "889    890\n",
      "890    891\n",
      "Name: PassengerId, Length: 891, dtype: int64\n",
      "Index(['Name', 'Sex', 'Ticket', 'Embarked'], dtype='object')\n"
     ]
    }
   ],
   "source": [
    "print(df['PassengerId'])\n",
    "df._get_numeric_data().columns\n",
    "category_colms  = df.select_dtypes(include=['object'])\n",
    "print(category_colms.columns)\n"
   ]
  },
  {
   "cell_type": "code",
   "execution_count": 9,
   "id": "focused-pursuit",
   "metadata": {},
   "outputs": [],
   "source": [
    "# Max fill function for categorical columns\n",
    "category_colms  = df.select_dtypes(include=['object'])\n",
    "\n",
    "for each_cat_feature in category_colms.columns:\n",
    "    if each_cat_feature != 'Name':\n",
    "        df[each_cat_feature].fillna(df[each_cat_feature].value_counts().idxmax(), inplace=True)\n",
    "    else:\n",
    "        df[each_cat_feature].fillna('OTHERS')"
   ]
  },
  {
   "cell_type": "markdown",
   "id": "atomic-navigator",
   "metadata": {},
   "source": [
    "# 2. Handling Outliers\n",
    "<p>Before mentioning how outliers can be handled, I want to state that the best way to detect the outliers is to demonstrate the data visually. All other statistical methodologies are open to making mistakes, whereas visualizing the outliers gives a chance to take a decision with high precision. Anyway, I am planning to focus visualization deeply in another article and let’s continue with statistical methodologies.</p>\n",
    "\n",
    "<p>Statistical methodologies are less precise as I mentioned, but on the other hand, they have a superiority, they are fast. Here I will list two different ways of handling outliers. These will detect them using standard deviation, and percentiles.</p>"
   ]
  },
  {
   "cell_type": "code",
   "execution_count": 10,
   "id": "abroad-publicity",
   "metadata": {},
   "outputs": [
    {
     "data": {
      "text/plain": [
       "0.3838383838383838"
      ]
     },
     "execution_count": 10,
     "metadata": {},
     "output_type": "execute_result"
    }
   ],
   "source": [
    "df['Survived'].mean()"
   ]
  },
  {
   "cell_type": "markdown",
   "id": "rough-chassis",
   "metadata": {},
   "source": [
    "## Outlier Detection with Standard Deviation\n",
    "If a value has a distance to the average higher than x * standard deviation, it can be assumed as an outlier. Then what x should be?\n",
    "There is no trivial solution for x, but usually, a value between 2 and 4 seems practical.\n"
   ]
  },
  {
   "cell_type": "code",
   "execution_count": 11,
   "id": "chronic-locator",
   "metadata": {},
   "outputs": [
    {
     "name": "stdout",
     "output_type": "stream",
     "text": [
      "(657, 11)\n"
     ]
    }
   ],
   "source": [
    "#Dropping the outlier rows with standard deviation\n",
    "factor = 3\n",
    "\n",
    "numeric_colms = df._get_numeric_data().columns\n",
    "\n",
    "for each_numeric_feature in numeric_colms:\n",
    "    upper_lim = df[each_numeric_feature].mean() + df[each_numeric_feature].std() * factor\n",
    "    lower_lim = df[each_numeric_feature].mean() - df[each_numeric_feature].std() * factor\n",
    "    df = df[(df[each_numeric_feature] < upper_lim) & (df[each_numeric_feature] > lower_lim)]\n",
    "\n",
    "print(df.shape)"
   ]
  },
  {
   "cell_type": "markdown",
   "id": "relative-special",
   "metadata": {},
   "source": [
    "In addition, z-score can be used instead of the formula above. Z-score (or standard score) standardizes the distance between a value and the mean using the standard deviation."
   ]
  },
  {
   "cell_type": "markdown",
   "id": "vocal-transfer",
   "metadata": {},
   "source": [
    "## Outlier Detection with Percentiles\n",
    "Another mathematical method to detect outliers is to use percentiles. You can assume a certain percent of the value from the top or the bottom as an outlier. The key point is here to set the percentage value once again, and this depends on the distribution of your data as mentioned earlier.\n",
    "\n",
    "Additionally, a common mistake is using the percentiles according to the range of the data. In other words, if your data ranges from 0 to 100, your top 5% is not the values between 96 and 100. Top 5% means here the values that are out of the 95th percentile of data."
   ]
  },
  {
   "cell_type": "code",
   "execution_count": 12,
   "id": "minus-extent",
   "metadata": {},
   "outputs": [
    {
     "name": "stdout",
     "output_type": "stream",
     "text": [
      "4.8999999999999995\n",
      "1.0\n",
      "0     True\n",
      "1     True\n",
      "2    False\n",
      "3    False\n",
      "4    False\n",
      "Name: Val, dtype: bool\n",
      "4.1\n",
      "3    4.1\n",
      "4    5.1\n",
      "Name: Val, dtype: float64\n",
      "0    1.1\n",
      "1    2.1\n",
      "Name: Val, dtype: float64\n",
      "0    1.1\n",
      "3    4.1\n",
      "4    5.1\n",
      "Name: Val, dtype: float64\n"
     ]
    }
   ],
   "source": [
    "data = pd.DataFrame({\"Val\" : [1.1,2.1,3.1,4.1,5.1]})\n",
    "print(data['Val'].quantile(0.95))\n",
    "\n",
    "print(df['Survived'].quantile(0.95))\n",
    "\n",
    "print(data['Val'] < 3)\n",
    "\n",
    "print(data.loc[3, 'Val'])\n",
    "print(data.loc[[3,4], 'Val'])\n",
    "\n",
    "print(data.loc[data['Val'] < 3, 'Val'])\n",
    "\n",
    "print(data.loc[[True, False, False, True, True],'Val'])"
   ]
  },
  {
   "cell_type": "code",
   "execution_count": 13,
   "id": "radio-fountain",
   "metadata": {},
   "outputs": [
    {
     "data": {
      "text/plain": [
       "(523, 11)"
      ]
     },
     "execution_count": 13,
     "metadata": {},
     "output_type": "execute_result"
    }
   ],
   "source": [
    "# Dropping the outlier rows with Percentiles\n",
    "\n",
    "numeric_colms = df._get_numeric_data().columns\n",
    "\n",
    "for each_numeric_feature in numeric_colms:\n",
    "    upper_lim = df[each_numeric_feature].quantile(.95)\n",
    "    lower_lim = df[each_numeric_feature].quantile(.05)\n",
    "    if each_numeric_feature == 'Age' or each_numeric_feature == 'Fare':\n",
    "        df = df[(df[each_numeric_feature] < upper_lim) & (df[each_numeric_feature] > lower_lim)]\n",
    "\n",
    "df.shape"
   ]
  },
  {
   "cell_type": "markdown",
   "id": "native-purple",
   "metadata": {},
   "source": [
    "## An Outlier Dilemma: Drop or Cap\n",
    "Another option for handling outliers is to cap them instead of dropping. So you can keep your data size and at the end of the day, it might be better for the final model performance.\n",
    "\n",
    "On the other hand, capping can affect the distribution of the data, thus it better not to exaggerate it.\n"
   ]
  },
  {
   "cell_type": "code",
   "execution_count": 14,
   "id": "stainless-immigration",
   "metadata": {},
   "outputs": [
    {
     "name": "stdout",
     "output_type": "stream",
     "text": [
      "(523, 11)\n"
     ]
    }
   ],
   "source": [
    "# Capping the outlier rows with Percentiles\n",
    "\n",
    "numeric_colms = df._get_numeric_data().columns\n",
    "\n",
    "for each_numeric_feature in numeric_colms:\n",
    "    upper_lim = df[each_numeric_feature].quantile(.95)\n",
    "    lower_lim = df[each_numeric_feature].quantile(.05)\n",
    "    df.loc[(df[each_numeric_feature] > upper_lim),each_numeric_feature] = upper_lim\n",
    "    df.loc[(df[each_numeric_feature] < lower_lim),each_numeric_feature] = lower_lim\n",
    "\n",
    "print(df.shape)"
   ]
  },
  {
   "cell_type": "markdown",
   "id": "improved-longer",
   "metadata": {},
   "source": [
    "## 3. Binning\n",
    "<img src=\"https://miro.medium.com/max/700/0*XWta_U67Nv9udfY-.png\" height=\"150px;\" width=\"400px;\">\n",
    "<p style=\"text-align: center;\">Binning illustration of numerical data</p>\n",
    "\n",
    "Binning can be applied on both categorical and numerical data:\n",
    "\n",
    "<div>\n",
    "#Numerical Binning Example <br>\n",
    "Value      Bin     <br>  \n",
    "0-30   ->  Low     <br>\n",
    "31-70  ->  Mid     <br>\n",
    "71-100 ->  High    <br>\n",
    "</div>\n",
    "\n",
    "<div>\n",
    "#Categorical Binning Example\n",
    "Value      Bin           <br>\n",
    "Spain  ->  Europe        <br>\n",
    "Italy  ->  Europe        <br>\n",
    "Chile  ->  South America <br>\n",
    "Brazil ->  South America <br>\n",
    "</div>\n",
    "\n",
    "The main motivation of binning is to make the model more robust and prevent overfitting, however, it has a cost to the performance. Every time you bin something, you sacrifice information and make your data more regularized.\n",
    "\n",
    "The trade-off between performance and overfitting is the key point of the binning process. In my opinion, for numerical columns, except for some obvious overfitting cases, binning might be redundant for some kind of algorithms, due to its effect on model performance.\n",
    "\n",
    "However, for categorical columns, the labels with low frequencies probably affect the robustness of statistical models negatively. Thus, assigning a general category to these less frequent values helps to keep the robustness of the model. For example, if your data size is 100,000 rows, it might be a good option to unite the labels with a count less than 100 to a new category like <b>“Other”</b>.\n"
   ]
  },
  {
   "cell_type": "markdown",
   "id": "necessary-capture",
   "metadata": {},
   "source": [
    "### # Numerical Binning Example"
   ]
  },
  {
   "cell_type": "code",
   "execution_count": 15,
   "id": "dominant-wonder",
   "metadata": {},
   "outputs": [
    {
     "name": "stdout",
     "output_type": "stream",
     "text": [
      "   Feature1   Feature2\n",
      "0         2      Spain\n",
      "1        45      Chile\n",
      "2         7  Australia\n",
      "3        85      Italy\n",
      "4        28     Brazil\n"
     ]
    }
   ],
   "source": [
    "data = pd.DataFrame({'Feature1':[2,45,7,85,28], 'Feature2': ['Spain','Chile','Australia','Italy','Brazil']})\n",
    "print(data)"
   ]
  },
  {
   "cell_type": "code",
   "execution_count": 16,
   "id": "sweet-jenny",
   "metadata": {},
   "outputs": [
    {
     "name": "stdout",
     "output_type": "stream",
     "text": [
      "   Feature1   Feature2   bin\n",
      "0         2      Spain   Low\n",
      "1        45      Chile   Mid\n",
      "2         7  Australia   Low\n",
      "3        85      Italy  High\n",
      "4        28     Brazil   Low\n"
     ]
    }
   ],
   "source": [
    "data['bin'] = pd.cut(data['Feature1'], bins=[0,30,70,100], labels=[\"Low\", \"Mid\", \"High\"])\n",
    "print(data)"
   ]
  },
  {
   "cell_type": "markdown",
   "id": "cheap-lyric",
   "metadata": {},
   "source": [
    "### # Categorical Binning Example"
   ]
  },
  {
   "cell_type": "code",
   "execution_count": 17,
   "id": "corresponding-bonus",
   "metadata": {},
   "outputs": [
    {
     "name": "stdout",
     "output_type": "stream",
     "text": [
      "   Feature1   Feature2   bin      Continent\n",
      "0         2      Spain   Low         Europe\n",
      "1        45      Chile   Mid  South America\n",
      "2         7  Australia   Low          Other\n",
      "3        85      Italy  High         Europe\n",
      "4        28     Brazil   Low  South America\n"
     ]
    }
   ],
   "source": [
    "conditions = [\n",
    "    data['Feature2'].str.contains('Spain'),\n",
    "    data['Feature2'].str.contains('Italy'),\n",
    "    data['Feature2'].str.contains('Chile'),\n",
    "    data['Feature2'].str.contains('Brazil')]\n",
    "\n",
    "choices = ['Europe', 'Europe', 'South America', 'South America']\n",
    "\n",
    "data['Continent'] = np.select(conditions, choices, default='Other')\n",
    "\n",
    "print(data)"
   ]
  },
  {
   "cell_type": "markdown",
   "id": "connected-newsletter",
   "metadata": {},
   "source": [
    "### ############################################################"
   ]
  },
  {
   "cell_type": "code",
   "execution_count": 18,
   "id": "fifteen-collar",
   "metadata": {},
   "outputs": [
    {
     "name": "stdout",
     "output_type": "stream",
     "text": [
      "0     1.609438\n",
      "1     2.302585\n",
      "2     3.218876\n",
      "3     2.708050\n",
      "4     3.332205\n",
      "5     3.637586\n",
      "6     3.806662\n",
      "7     3.850148\n",
      "8     3.496508\n",
      "9    11.002100\n",
      "Name: A, dtype: float64\n",
      "0.0 1.0\n",
      "          A\n",
      "0 -0.334575\n",
      "1 -0.334297\n",
      "2 -0.333463\n",
      "3 -0.334019\n",
      "4 -0.333296\n",
      "5 -0.332740\n",
      "6 -0.332351\n",
      "7 -0.332240\n",
      "8 -0.333018\n",
      "9  2.999999\n"
     ]
    }
   ],
   "source": [
    "z_data = pd.DataFrame({'A':[5,10,25,15,28,38,45,47,33, 60000]})\n",
    "\n",
    "print(np.log(z_data['A']))\n",
    "\n",
    "from scipy.stats import zscore\n",
    "z_transformed_data = z_data.apply(zscore)\n",
    "\n",
    "from scipy.stats import norm\n",
    "mu, std = norm.fit(z_transformed_data)\n",
    "\n",
    "print(mu, std)\n",
    "print(z_transformed_data)"
   ]
  },
  {
   "cell_type": "code",
   "execution_count": 19,
   "id": "helpful-reserve",
   "metadata": {},
   "outputs": [
    {
     "name": "stdout",
     "output_type": "stream",
     "text": [
      "      CRIM    ZN  INDUS  CHAS    NOX     RM   AGE     DIS  RAD    TAX  \\\n",
      "0  0.00632  18.0   2.31   0.0  0.538  6.575  65.2  4.0900  1.0  296.0   \n",
      "1  0.02731   0.0   7.07   0.0  0.469  6.421  78.9  4.9671  2.0  242.0   \n",
      "2  0.02729   0.0   7.07   0.0  0.469  7.185  61.1  4.9671  2.0  242.0   \n",
      "3  0.03237   0.0   2.18   0.0  0.458  6.998  45.8  6.0622  3.0  222.0   \n",
      "4  0.06905   0.0   2.18   0.0  0.458  7.147  54.2  6.0622  3.0  222.0   \n",
      "\n",
      "   PTRATIO       B  LSTAT  Price  \n",
      "0     15.3  396.90   4.98   24.0  \n",
      "1     17.8  396.90   9.14   21.6  \n",
      "2     17.8  392.83   4.03   34.7  \n",
      "3     18.7  394.63   2.94   33.4  \n",
      "4     18.7  396.90   5.33   36.2  \n",
      "5.223148798243851\n",
      "14.33370    2\n",
      "0.01501     2\n",
      "0.08265     1\n",
      "0.53700     1\n",
      "1.35472     1\n",
      "           ..\n",
      "13.67810    1\n",
      "0.88125     1\n",
      "0.01951     1\n",
      "0.49298     1\n",
      "0.03578     1\n",
      "Name: CRIM, Length: 504, dtype: int64\n"
     ]
    },
    {
     "data": {
      "text/plain": [
       "<seaborn.axisgrid.FacetGrid at 0x7f8ba373d4a8>"
      ]
     },
     "execution_count": 19,
     "metadata": {},
     "output_type": "execute_result"
    },
    {
     "data": {
      "image/png": "[encoded data removed]",
      "text/plain": [
       "<Figure size 360x360 with 1 Axes>"
      ]
     },
     "metadata": {
      "needs_background": "light"
     },
     "output_type": "display_data"
    }
   ],
   "source": [
    "from sklearn.datasets import load_boston\n",
    "import seaborn as sns\n",
    "\n",
    "boston = load_boston()\n",
    "x = boston['data']\n",
    "y = boston['target']\n",
    "col = boston['feature_names']\n",
    "\n",
    "data = pd.DataFrame(x, columns=col)\n",
    "data['Price'] = y\n",
    "\n",
    "print(data.head())\n",
    "\n",
    "print(data['CRIM'].skew())\n",
    "\n",
    "print(data['CRIM'].value_counts())\n",
    "X=[i for i in range(80)]\n",
    "sns.relplot(data=data['CRIM'])"
   ]
  },
  {
   "cell_type": "markdown",
   "id": "starting-headset",
   "metadata": {},
   "source": [
    "### ############################################################"
   ]
  },
  {
   "cell_type": "markdown",
   "id": "resistant-source",
   "metadata": {},
   "source": [
    "## 4.Log Transform\n",
    "Logarithm transformation (or log transform) is one of the most commonly used mathematical transformations in feature engineering. What are the benefits of log transform:\n",
    "<ul>\n",
    "   <li> It helps to handle skewed data and after transformation, the distribution becomes more approximate to normal.\n",
    "   <li> In most of the cases the magnitude order of the data changes within the range of the data. For instance, the difference between ages 15 and 20 is not equal to the ages 65 and 70. In terms of years, yes, they are identical, but for all other aspects, 5 years of difference in young ages mean a higher magnitude difference. This type of data comes from a multiplicative process and log transform normalizes the magnitude differences like that. </li>\n",
    "   <li> It also decreases the effect of the outliers, due to the normalization of magnitude differences and the model become more robust.</li>\n",
    "</ul>\n",
    "\n",
    "<b>A critical note:</b> The data you apply log transform must have only positive values, otherwise you receive an error. Also, you can add 1 to your data before transform it. Thus, you ensure the output of the transformation to be positive.\n",
    "    \n",
    "<b>Log(x+1)</b>"
   ]
  },
  {
   "cell_type": "code",
   "execution_count": 20,
   "id": "charitable-clinic",
   "metadata": {},
   "outputs": [
    {
     "name": "stdout",
     "output_type": "stream",
     "text": [
      "   value  log(x+1)  log(x-min(x)+1)\n",
      "0      2  1.098612         3.258097\n",
      "1     45  3.828641         4.234107\n",
      "2    -23       NaN         0.000000\n",
      "3     85  4.454347         4.691348\n",
      "4     28  3.367296         3.951244\n",
      "5      2  1.098612         3.258097\n",
      "6     35  3.583519         4.077537\n",
      "7    -12       NaN         2.484907\n"
     ]
    }
   ],
   "source": [
    "# Log Transform Example\n",
    "data = pd.DataFrame({'value':[2,45, -23, 85, 28, 2, 35, -12]})\n",
    "\n",
    "data['log(x+1)'] = (data['value']+1).transform(np.log)\n",
    "\n",
    "# Handling negative values\n",
    "# Note that the values are different\n",
    "data['log(x-min(x)+1)'] = (data['value']-data['value'].min()+1).transform(np.log)\n",
    "\n",
    "print(data)"
   ]
  },
  {
   "cell_type": "markdown",
   "id": "failing-attribute",
   "metadata": {},
   "source": [
    "## 5.One-hot encoding\n",
    "One-hot encoding is one of the most common encoding methods in machine learning. This method spreads the values in a column to multiple flag columns and assigns 0 or 1 to them. These binary values express the relationship between grouped and encoded column.\n",
    "\n",
    "This method changes your categorical data, which is challenging to understand for algorithms, to a numerical format and enables you to group your categorical data without losing any information\n",
    "\n",
    "<b>Why One-Hot?:</b> If you have N distinct values in the column, it is enough to map them to N-1 binary columns, because the missing value can be deducted from other columns. If all the columns in our hand are equal to 0, the missing value must be equal to 1. This is the reason why it is called as one-hot encoding. However, I will give an example using the get_dummies function of Pandas. This function maps all values in a column to multiple columns."
   ]
  },
  {
   "cell_type": "code",
   "execution_count": 21,
   "id": "adult-latin",
   "metadata": {},
   "outputs": [
    {
     "name": "stdout",
     "output_type": "stream",
     "text": [
      "   A  B\n",
      "0  a  b\n",
      "1  b  a\n",
      "2  a  c\n",
      "   A  a  b  c\n",
      "0  a  0  1  0\n",
      "1  b  1  0  0\n",
      "2  a  0  0  1\n"
     ]
    }
   ],
   "source": [
    "data = pd.DataFrame({\n",
    "          'A':['a','b','a'],\n",
    "          'B':['b','a','c']\n",
    "        })\n",
    "\n",
    "print(data)\n",
    "\n",
    "# Get one hot encoding of columns B\n",
    "one_hot = pd.get_dummies(data['B'])\n",
    "\n",
    "# Drop column B as it is now encoded\n",
    "data = data.drop('B',axis = 1)\n",
    "\n",
    "# Join the encoded df\n",
    "data = data.join(one_hot)\n",
    "\n",
    "print(data)"
   ]
  },
  {
   "cell_type": "markdown",
   "id": "mechanical-hawaii",
   "metadata": {},
   "source": [
    "### # One-hot encoding using scikit-learn"
   ]
  },
  {
   "cell_type": "code",
   "execution_count": 22,
   "id": "atlantic-oxide",
   "metadata": {},
   "outputs": [
    {
     "name": "stdout",
     "output_type": "stream",
     "text": [
      "[[0. 0. 0. 1.]\n",
      " [1. 0. 0. 0.]\n",
      " [0. 1. 0. 0.]\n",
      " [0. 0. 1. 0.]]\n"
     ]
    }
   ],
   "source": [
    "from sklearn.preprocessing import OneHotEncoder\n",
    "\n",
    "data = np.array([15,4,9,11])\n",
    "\n",
    "encoder = OneHotEncoder(sparse=False)\n",
    "\n",
    "one_hot_encoded = encoder.fit_transform(data.reshape(len(data),1))\n",
    "print(one_hot_encoded)"
   ]
  },
  {
   "cell_type": "code",
   "execution_count": 23,
   "id": "indoor-marsh",
   "metadata": {},
   "outputs": [
    {
     "name": "stdout",
     "output_type": "stream",
     "text": [
      "[3 1 0 2]\n",
      "[[0. 0. 0. 1.]\n",
      " [0. 1. 0. 0.]\n",
      " [1. 0. 0. 0.]\n",
      " [0. 0. 1. 0.]]\n"
     ]
    }
   ],
   "source": [
    "from sklearn.preprocessing import LabelEncoder\n",
    "from sklearn.preprocessing import OneHotEncoder\n",
    "\n",
    "data = np.array(['Red', 'Green', 'Blue', 'Orange'])\n",
    "\n",
    "label_enc = LabelEncoder()\n",
    "\n",
    "label_encoded = label_enc.fit_transform(data)\n",
    "\n",
    "print(label_encoded)\n",
    "\n",
    "encoder = OneHotEncoder(sparse=False)\n",
    "\n",
    "one_hot_encoded = encoder.fit_transform(label_encoded.reshape(len(data),1))\n",
    "print(one_hot_encoded)"
   ]
  },
  {
   "cell_type": "markdown",
   "id": "suffering-eagle",
   "metadata": {},
   "source": [
    "## 6. Grouping Operations"
   ]
  },
  {
   "cell_type": "code",
   "execution_count": null,
   "id": "quick-citation",
   "metadata": {},
   "outputs": [],
   "source": []
  },
  {
   "cell_type": "markdown",
   "id": "polished-serve",
   "metadata": {},
   "source": [
    "## 7. Feature Split\n",
    "\n",
    "Splitting features is a good way to make them useful in terms of machine learning. Most of the time the dataset contains string columns that violates tidy data principles. By extracting the utilizable parts of a column into new features:\n",
    "\n",
    "- We enable machine learning algorithms to comprehend them.\n",
    "- Make possible to bin and group them.\n",
    "- Improve model performance by uncovering potential information.\n",
    "\n",
    "<b>Split</b> function is a good option, however, there is no one way of splitting features. It depends on the characteristics of the column, how to split it. Let’s introduce it with two examples. First, a simple split function for an ordinary name column:"
   ]
  },
  {
   "cell_type": "code",
   "execution_count": 24,
   "id": "driven-scroll",
   "metadata": {},
   "outputs": [
    {
     "name": "stdout",
     "output_type": "stream",
     "text": [
      "           Name FirstName LastName\n",
      "0  first1 last1    first1    last1\n",
      "1  first2 last2    first2    last2\n",
      "2  first3 last3    first3    last3\n",
      "3  first4 last4    first4    last4\n",
      "4  first5 last5    first5    last5\n"
     ]
    }
   ],
   "source": [
    "data = pd.DataFrame({'Name': ['first1 last1', 'first2 last2', 'first3 last3', 'first4 last4', 'first5 last5']})\n",
    "\n",
    "# Extracting first names\n",
    "data['FirstName'] = data['Name'].str.split(' ').map(lambda x: x[0])\n",
    "\n",
    "# Extracting last name\n",
    "data['LastName'] = data['Name'].str.split(' ').map(lambda x: x[-1])\n",
    "\n",
    "print(data)"
   ]
  },
  {
   "cell_type": "markdown",
   "id": "defined-judges",
   "metadata": {},
   "source": [
    "The example above handles the names longer than two words by taking only the first and last elements and it makes the function robust for corner cases, which should be regarded when manipulating strings like that.\n",
    "\n",
    "Another case for split function is to extract a string part between two chars. The following example shows an implementation of this case by using two split functions in a row.\n"
   ]
  },
  {
   "cell_type": "code",
   "execution_count": 25,
   "id": "focused-median",
   "metadata": {},
   "outputs": [
    {
     "name": "stdout",
     "output_type": "stream",
     "text": [
      "                                Title  Year\n",
      "0                    Toy Story (1995)  1995\n",
      "1                      Jumanji (1995)  1995\n",
      "2             Grumpier Old Men (1995)  1995\n",
      "3            Waiting to Exhale (1995)  1995\n",
      "4  Father of the Bride Part II (1995)  1995\n"
     ]
    }
   ],
   "source": [
    "data = pd.DataFrame({'Title': ['Toy Story (1995)', 'Jumanji (1995)', 'Grumpier Old Men (1995)', \\\n",
    "                               'Waiting to Exhale (1995)', 'Father of the Bride Part II (1995)']})\n",
    "\n",
    "# data['Year'] = data['Title'].str.split('(').map(lambda x: x[-1]).str.split(')').map(lambda x: x[0])\n",
    "# or\n",
    "data['Year'] = data['Title'].str.split(\"(\", n=1, expand=True)[1].str.split(\")\", n=1, expand=True)[0]\n",
    "print(data)"
   ]
  },
  {
   "cell_type": "markdown",
   "id": "worth-andrew",
   "metadata": {},
   "source": [
    "## 8. Scaling\n",
    "\n",
    "In most cases, the numerical features of the dataset do not have a certain range and they differ from each other. In real life, it is nonsense to expect age and income columns to have the same range. But from the machine learning point of view, how these two columns can be compared?\n",
    "\n",
    "Scaling solves this problem. The continuous features become identical in terms of the range, after a scaling process. This process is not mandatory for many algorithms, but it might be still nice to apply. However, the algorithms based on distance calculations such as k-NN or k-Means need to have scaled continuous features as model input.\n",
    "\n",
    "Basically, there are two common ways of scaling:\n",
    "\n",
    "### (1) Normalization\n",
    "<img src=\"https://miro.medium.com/max/168/1*D3ORMiW9A7GoTezFYbL8LA.png\">\n",
    "\n",
    "Normalization (or min-max normalization) scale all values in a fixed range between 0 and 1. This transformation does not change the distribution of the feature and <b>due to the decreased standard deviations, the effects of the outliers increases. Therefore, before normalization, it is recommended to handle the outliers.</b>\n"
   ]
  },
  {
   "cell_type": "code",
   "execution_count": 26,
   "id": "modern-domestic",
   "metadata": {},
   "outputs": [
    {
     "name": "stdout",
     "output_type": "stream",
     "text": [
      "   Value  Normalized\n",
      "0      2    0.231481\n",
      "1     45    0.629630\n",
      "2    -23    0.000000\n",
      "3     85    1.000000\n",
      "4     28    0.472222\n",
      "5      2    0.231481\n",
      "6     35    0.537037\n",
      "7    -12    0.101852\n"
     ]
    }
   ],
   "source": [
    "data = pd.DataFrame({'Value':[2, 45, -23, 85, 28, 2, 35, -12]})\n",
    "\n",
    "data['Normalized'] = ( data['Value'] - data['Value'].min() ) / ( data['Value'].max() - data['Value'].min())\n",
    "\n",
    "print(data)"
   ]
  },
  {
   "cell_type": "markdown",
   "id": "suburban-symbol",
   "metadata": {},
   "source": [
    "### (2) Standardization\n",
    "Standardization (or <b>z-score normalization</b>) scales the values while taking into account standard deviation. If the <b>standard deviation</b> of features is different, their range also would differ from each other. <b>This reduces the effect of the outliers in the features</b>.\n",
    "\n",
    "In the following formula of standardization, the mean is shown as <b>μ</b> and the standard deviation is shown as <b>σ</b>.\n",
    "<img src=\"https://miro.medium.com/max/82/1*BcNLM9loyAR3YQLt2hDqqg.png\">\n"
   ]
  },
  {
   "cell_type": "code",
   "execution_count": 27,
   "id": "temporal-illinois",
   "metadata": {},
   "outputs": [
    {
     "name": "stdout",
     "output_type": "stream",
     "text": [
      "   Value  Standardized\n",
      "0      2     -0.518878\n",
      "1     45      0.703684\n",
      "2    -23     -1.229670\n",
      "3     85      1.840952\n",
      "4     28      0.220346\n",
      "5      2     -0.518878\n",
      "6     35      0.419367\n",
      "7    -12     -0.916922\n"
     ]
    }
   ],
   "source": [
    "data = pd.DataFrame({'Value':[2,45, -23, 85, 28, 2, 35, -12]})\n",
    "\n",
    "data['Standardized'] = ( data['Value'] - data['Value'].mean() ) / data['Value'].std()\n",
    "print(data)"
   ]
  },
  {
   "cell_type": "markdown",
   "id": "automotive-invalid",
   "metadata": {},
   "source": [
    "## 9. Extracting Date\n",
    "Though date columns usually provide valuable information about the model target, they are neglected as an input or used nonsensically for the machine learning algorithms. It might be the reason for this, that dates can be present in numerous formats, which make it hard to understand by algorithms, even they are simplified to a format like <b>\"01–01–2017\"</b>.\n",
    "\n",
    "Building an ordinal relationship between the values is very challenging for a machine learning algorithm if you leave the date columns without manipulation. Here, I suggest three types of preprocessing for dates:\n",
    "- Extracting the parts of the date into different columns: Year, month, day, etc.\n",
    "- Extracting the time period between the current date and columns in terms of years, months, days, etc.\n",
    "- Extracting some specific features from the date: Name of the weekday, Weekend or not, holiday or not, etc.\n",
    "\n",
    "If you transform the date column into the extracted columns like above, the information of them become disclosed and machine learning algorithms can easily understand them."
   ]
  },
  {
   "cell_type": "code",
   "execution_count": 28,
   "id": "fifteen-rugby",
   "metadata": {},
   "outputs": [
    {
     "name": "stdout",
     "output_type": "stream",
     "text": [
      "        DATE  Year  Month  Passed_Years  Passed_Months Weekday_Name\n",
      "0 2017-01-01  2017      1             4             49       Sunday\n",
      "1 2008-12-04  2008     12            13            146     Thursday\n",
      "2 1988-06-23  1988      6            33            392     Thursday\n",
      "3 1999-08-25  1999      8            22            258    Wednesday\n",
      "4 1993-02-20  1993      2            28            336     Saturday\n"
     ]
    }
   ],
   "source": [
    "from datetime import date\n",
    "\n",
    "data = pd.DataFrame({'DATE':\n",
    "['01-01-2017',\n",
    "'04-12-2008',\n",
    "'23-06-1988',\n",
    "'25-08-1999',\n",
    "'20-02-1993',\n",
    "]})\n",
    "\n",
    "# transform string to date\n",
    "data['DATE'] = pd.to_datetime(data.DATE, format=\"%d-%m-%Y\")\n",
    "\n",
    "# Extracting Year\n",
    "data['Year'] = data['DATE'].dt.year\n",
    "\n",
    "# Extracting Month\n",
    "data['Month'] = data.DATE.dt.month\n",
    "\n",
    "# Extracting passed years since the date\n",
    "data['Passed_Years'] = date.today().year - data['DATE'].dt.year\n",
    "\n",
    "# Extracting passed months since the date\n",
    "data['Passed_Months'] = (date.today().year - data['DATE'].dt.year)*12 + (date.today().month - data['DATE'].dt.month)\n",
    "\n",
    "# Extracting the weekday name of the date\n",
    "data['Weekday_Name'] = data['DATE'].dt.day_name()\n",
    "\n",
    "print(data)"
   ]
  },
  {
   "cell_type": "markdown",
   "id": "organizational-measurement",
   "metadata": {},
   "source": [
    "## Conclusion\n",
    "We saw fundamental methods that can be beneficial in the feature engineering process. After this article, proceeding with other topics of data preparation such as <b>feature selection, train/test splitting, and sampling</b> might be a good option.\n",
    "\n",
    "These techniques are not magical tools. If your data tiny, dirty and useless, feature engineering may remain incapable."
   ]
  }
 ],
 "metadata": {
  "kernelspec": {
   "display_name": "Python 3",
   "language": "python",
   "name": "python3"
  },
  "language_info": {
   "codemirror_mode": {
    "name": "ipython",
    "version": 3
   },
   "file_extension": ".py",
   "mimetype": "text/x-python",
   "name": "python",
   "nbconvert_exporter": "python",
   "pygments_lexer": "ipython3",
   "version": "3.6.9"
  }
 },
 "nbformat": 4,
 "nbformat_minor": 5
}
